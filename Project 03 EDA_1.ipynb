{
 "cells": [
  {
   "cell_type": "code",
   "execution_count": 1,
   "metadata": {
    "ExecuteTime": {
     "end_time": "2019-10-24T22:33:55.734052Z",
     "start_time": "2019-10-24T22:33:46.087618Z"
    }
   },
   "outputs": [],
   "source": [
    "# Standard imports\n",
    "import pandas as pd\n",
    "import numpy as np"
   ]
  },
  {
   "cell_type": "code",
   "execution_count": 2,
   "metadata": {
    "ExecuteTime": {
     "end_time": "2019-10-24T22:34:25.301197Z",
     "start_time": "2019-10-24T22:34:09.661799Z"
    }
   },
   "outputs": [],
   "source": [
    "# For plotting\n",
    "import matplotlib.pyplot as plt\n",
    "%matplotlib inline\n",
    "import seaborn as sns"
   ]
  },
  {
   "cell_type": "code",
   "execution_count": 3,
   "metadata": {
    "ExecuteTime": {
     "end_time": "2019-10-24T22:35:21.545182Z",
     "start_time": "2019-10-24T22:35:21.532824Z"
    }
   },
   "outputs": [],
   "source": [
    "# For SQL queries\n",
    "import sqlite3\n",
    "conn = sqlite3.connect(\"/Users/Quicksilver/Desktop/Metis/sea19_ds10/Project03/FPA_FOD_20170508.sqlite\")\n",
    "cursor=conn.cursor()"
   ]
  },
  {
   "cell_type": "markdown",
   "metadata": {},
   "source": [
    "# What are the column names?"
   ]
  },
  {
   "cell_type": "code",
   "execution_count": 4,
   "metadata": {
    "ExecuteTime": {
     "end_time": "2019-10-24T22:35:38.161699Z",
     "start_time": "2019-10-24T22:35:36.872089Z"
    }
   },
   "outputs": [
    {
     "data": {
      "text/html": [
       "<div>\n",
       "<style scoped>\n",
       "    .dataframe tbody tr th:only-of-type {\n",
       "        vertical-align: middle;\n",
       "    }\n",
       "\n",
       "    .dataframe tbody tr th {\n",
       "        vertical-align: top;\n",
       "    }\n",
       "\n",
       "    .dataframe thead th {\n",
       "        text-align: right;\n",
       "    }\n",
       "</style>\n",
       "<table border=\"1\" class=\"dataframe\">\n",
       "  <thead>\n",
       "    <tr style=\"text-align: right;\">\n",
       "      <th></th>\n",
       "      <th>OBJECTID</th>\n",
       "      <th>FOD_ID</th>\n",
       "      <th>FPA_ID</th>\n",
       "      <th>SOURCE_SYSTEM_TYPE</th>\n",
       "      <th>SOURCE_SYSTEM</th>\n",
       "      <th>NWCG_REPORTING_AGENCY</th>\n",
       "      <th>NWCG_REPORTING_UNIT_ID</th>\n",
       "      <th>NWCG_REPORTING_UNIT_NAME</th>\n",
       "      <th>SOURCE_REPORTING_UNIT</th>\n",
       "      <th>SOURCE_REPORTING_UNIT_NAME</th>\n",
       "      <th>...</th>\n",
       "      <th>FIRE_SIZE_CLASS</th>\n",
       "      <th>LATITUDE</th>\n",
       "      <th>LONGITUDE</th>\n",
       "      <th>OWNER_CODE</th>\n",
       "      <th>OWNER_DESCR</th>\n",
       "      <th>STATE</th>\n",
       "      <th>COUNTY</th>\n",
       "      <th>FIPS_CODE</th>\n",
       "      <th>FIPS_NAME</th>\n",
       "      <th>Shape</th>\n",
       "    </tr>\n",
       "  </thead>\n",
       "  <tbody>\n",
       "    <tr>\n",
       "      <td>0</td>\n",
       "      <td>1</td>\n",
       "      <td>1</td>\n",
       "      <td>FS-1418826</td>\n",
       "      <td>FED</td>\n",
       "      <td>FS-FIRESTAT</td>\n",
       "      <td>FS</td>\n",
       "      <td>USCAPNF</td>\n",
       "      <td>Plumas National Forest</td>\n",
       "      <td>0511</td>\n",
       "      <td>Plumas National Forest</td>\n",
       "      <td>...</td>\n",
       "      <td>A</td>\n",
       "      <td>40.036944</td>\n",
       "      <td>-121.005833</td>\n",
       "      <td>5.0</td>\n",
       "      <td>USFS</td>\n",
       "      <td>CA</td>\n",
       "      <td>63</td>\n",
       "      <td>063</td>\n",
       "      <td>Plumas</td>\n",
       "      <td>b'\\x00\\x01\\xad\\x10\\x00\\x00\\xe8d\\xc2\\x92_@^\\xc0...</td>\n",
       "    </tr>\n",
       "    <tr>\n",
       "      <td>1</td>\n",
       "      <td>2</td>\n",
       "      <td>2</td>\n",
       "      <td>FS-1418827</td>\n",
       "      <td>FED</td>\n",
       "      <td>FS-FIRESTAT</td>\n",
       "      <td>FS</td>\n",
       "      <td>USCAENF</td>\n",
       "      <td>Eldorado National Forest</td>\n",
       "      <td>0503</td>\n",
       "      <td>Eldorado National Forest</td>\n",
       "      <td>...</td>\n",
       "      <td>A</td>\n",
       "      <td>38.933056</td>\n",
       "      <td>-120.404444</td>\n",
       "      <td>5.0</td>\n",
       "      <td>USFS</td>\n",
       "      <td>CA</td>\n",
       "      <td>61</td>\n",
       "      <td>061</td>\n",
       "      <td>Placer</td>\n",
       "      <td>b'\\x00\\x01\\xad\\x10\\x00\\x00T\\xb6\\xeej\\xe2\\x19^\\...</td>\n",
       "    </tr>\n",
       "    <tr>\n",
       "      <td>2</td>\n",
       "      <td>3</td>\n",
       "      <td>3</td>\n",
       "      <td>FS-1418835</td>\n",
       "      <td>FED</td>\n",
       "      <td>FS-FIRESTAT</td>\n",
       "      <td>FS</td>\n",
       "      <td>USCAENF</td>\n",
       "      <td>Eldorado National Forest</td>\n",
       "      <td>0503</td>\n",
       "      <td>Eldorado National Forest</td>\n",
       "      <td>...</td>\n",
       "      <td>A</td>\n",
       "      <td>38.984167</td>\n",
       "      <td>-120.735556</td>\n",
       "      <td>13.0</td>\n",
       "      <td>STATE OR PRIVATE</td>\n",
       "      <td>CA</td>\n",
       "      <td>17</td>\n",
       "      <td>017</td>\n",
       "      <td>El Dorado</td>\n",
       "      <td>b'\\x00\\x01\\xad\\x10\\x00\\x00\\xd0\\xa5\\xa0W\\x13/^\\...</td>\n",
       "    </tr>\n",
       "    <tr>\n",
       "      <td>3</td>\n",
       "      <td>4</td>\n",
       "      <td>4</td>\n",
       "      <td>FS-1418845</td>\n",
       "      <td>FED</td>\n",
       "      <td>FS-FIRESTAT</td>\n",
       "      <td>FS</td>\n",
       "      <td>USCAENF</td>\n",
       "      <td>Eldorado National Forest</td>\n",
       "      <td>0503</td>\n",
       "      <td>Eldorado National Forest</td>\n",
       "      <td>...</td>\n",
       "      <td>A</td>\n",
       "      <td>38.559167</td>\n",
       "      <td>-119.913333</td>\n",
       "      <td>5.0</td>\n",
       "      <td>USFS</td>\n",
       "      <td>CA</td>\n",
       "      <td>3</td>\n",
       "      <td>003</td>\n",
       "      <td>Alpine</td>\n",
       "      <td>b'\\x00\\x01\\xad\\x10\\x00\\x00\\x94\\xac\\xa3\\rt\\xfa]...</td>\n",
       "    </tr>\n",
       "    <tr>\n",
       "      <td>4</td>\n",
       "      <td>5</td>\n",
       "      <td>5</td>\n",
       "      <td>FS-1418847</td>\n",
       "      <td>FED</td>\n",
       "      <td>FS-FIRESTAT</td>\n",
       "      <td>FS</td>\n",
       "      <td>USCAENF</td>\n",
       "      <td>Eldorado National Forest</td>\n",
       "      <td>0503</td>\n",
       "      <td>Eldorado National Forest</td>\n",
       "      <td>...</td>\n",
       "      <td>A</td>\n",
       "      <td>38.559167</td>\n",
       "      <td>-119.933056</td>\n",
       "      <td>5.0</td>\n",
       "      <td>USFS</td>\n",
       "      <td>CA</td>\n",
       "      <td>3</td>\n",
       "      <td>003</td>\n",
       "      <td>Alpine</td>\n",
       "      <td>b'\\x00\\x01\\xad\\x10\\x00\\x00@\\xe3\\xaa.\\xb7\\xfb]\\...</td>\n",
       "    </tr>\n",
       "  </tbody>\n",
       "</table>\n",
       "<p>5 rows × 39 columns</p>\n",
       "</div>"
      ],
      "text/plain": [
       "   OBJECTID  FOD_ID      FPA_ID SOURCE_SYSTEM_TYPE SOURCE_SYSTEM  \\\n",
       "0         1       1  FS-1418826                FED   FS-FIRESTAT   \n",
       "1         2       2  FS-1418827                FED   FS-FIRESTAT   \n",
       "2         3       3  FS-1418835                FED   FS-FIRESTAT   \n",
       "3         4       4  FS-1418845                FED   FS-FIRESTAT   \n",
       "4         5       5  FS-1418847                FED   FS-FIRESTAT   \n",
       "\n",
       "  NWCG_REPORTING_AGENCY NWCG_REPORTING_UNIT_ID  NWCG_REPORTING_UNIT_NAME  \\\n",
       "0                    FS                USCAPNF    Plumas National Forest   \n",
       "1                    FS                USCAENF  Eldorado National Forest   \n",
       "2                    FS                USCAENF  Eldorado National Forest   \n",
       "3                    FS                USCAENF  Eldorado National Forest   \n",
       "4                    FS                USCAENF  Eldorado National Forest   \n",
       "\n",
       "  SOURCE_REPORTING_UNIT SOURCE_REPORTING_UNIT_NAME  ... FIRE_SIZE_CLASS  \\\n",
       "0                  0511     Plumas National Forest  ...               A   \n",
       "1                  0503   Eldorado National Forest  ...               A   \n",
       "2                  0503   Eldorado National Forest  ...               A   \n",
       "3                  0503   Eldorado National Forest  ...               A   \n",
       "4                  0503   Eldorado National Forest  ...               A   \n",
       "\n",
       "    LATITUDE   LONGITUDE OWNER_CODE       OWNER_DESCR STATE COUNTY FIPS_CODE  \\\n",
       "0  40.036944 -121.005833        5.0              USFS    CA     63       063   \n",
       "1  38.933056 -120.404444        5.0              USFS    CA     61       061   \n",
       "2  38.984167 -120.735556       13.0  STATE OR PRIVATE    CA     17       017   \n",
       "3  38.559167 -119.913333        5.0              USFS    CA      3       003   \n",
       "4  38.559167 -119.933056        5.0              USFS    CA      3       003   \n",
       "\n",
       "   FIPS_NAME                                              Shape  \n",
       "0     Plumas  b'\\x00\\x01\\xad\\x10\\x00\\x00\\xe8d\\xc2\\x92_@^\\xc0...  \n",
       "1     Placer  b'\\x00\\x01\\xad\\x10\\x00\\x00T\\xb6\\xeej\\xe2\\x19^\\...  \n",
       "2  El Dorado  b'\\x00\\x01\\xad\\x10\\x00\\x00\\xd0\\xa5\\xa0W\\x13/^\\...  \n",
       "3     Alpine  b'\\x00\\x01\\xad\\x10\\x00\\x00\\x94\\xac\\xa3\\rt\\xfa]...  \n",
       "4     Alpine  b'\\x00\\x01\\xad\\x10\\x00\\x00@\\xe3\\xaa.\\xb7\\xfb]\\...  \n",
       "\n",
       "[5 rows x 39 columns]"
      ]
     },
     "execution_count": 4,
     "metadata": {},
     "output_type": "execute_result"
    }
   ],
   "source": [
    "query = '''\n",
    "SELECT * FROM Fires LIMIT 5;\n",
    "'''\n",
    "\n",
    "columns_df = pd.read_sql_query(query, conn)\n",
    "columns_df"
   ]
  },
  {
   "cell_type": "code",
   "execution_count": 5,
   "metadata": {
    "ExecuteTime": {
     "end_time": "2019-10-24T22:35:38.295351Z",
     "start_time": "2019-10-24T22:35:38.287289Z"
    }
   },
   "outputs": [
    {
     "data": {
      "text/plain": [
       "Index(['OBJECTID', 'FOD_ID', 'FPA_ID', 'SOURCE_SYSTEM_TYPE', 'SOURCE_SYSTEM',\n",
       "       'NWCG_REPORTING_AGENCY', 'NWCG_REPORTING_UNIT_ID',\n",
       "       'NWCG_REPORTING_UNIT_NAME', 'SOURCE_REPORTING_UNIT',\n",
       "       'SOURCE_REPORTING_UNIT_NAME', 'LOCAL_FIRE_REPORT_ID',\n",
       "       'LOCAL_INCIDENT_ID', 'FIRE_CODE', 'FIRE_NAME',\n",
       "       'ICS_209_INCIDENT_NUMBER', 'ICS_209_NAME', 'MTBS_ID', 'MTBS_FIRE_NAME',\n",
       "       'COMPLEX_NAME', 'FIRE_YEAR', 'DISCOVERY_DATE', 'DISCOVERY_DOY',\n",
       "       'DISCOVERY_TIME', 'STAT_CAUSE_CODE', 'STAT_CAUSE_DESCR', 'CONT_DATE',\n",
       "       'CONT_DOY', 'CONT_TIME', 'FIRE_SIZE', 'FIRE_SIZE_CLASS', 'LATITUDE',\n",
       "       'LONGITUDE', 'OWNER_CODE', 'OWNER_DESCR', 'STATE', 'COUNTY',\n",
       "       'FIPS_CODE', 'FIPS_NAME', 'Shape'],\n",
       "      dtype='object')"
      ]
     },
     "execution_count": 5,
     "metadata": {},
     "output_type": "execute_result"
    }
   ],
   "source": [
    "columns_df.columns"
   ]
  },
  {
   "cell_type": "markdown",
   "metadata": {},
   "source": [
    "# Which columns are helpful?"
   ]
  },
  {
   "cell_type": "code",
   "execution_count": 6,
   "metadata": {
    "ExecuteTime": {
     "end_time": "2019-10-24T22:35:38.496037Z",
     "start_time": "2019-10-24T22:35:38.418276Z"
    }
   },
   "outputs": [
    {
     "data": {
      "text/html": [
       "<div>\n",
       "<style scoped>\n",
       "    .dataframe tbody tr th:only-of-type {\n",
       "        vertical-align: middle;\n",
       "    }\n",
       "\n",
       "    .dataframe tbody tr th {\n",
       "        vertical-align: top;\n",
       "    }\n",
       "\n",
       "    .dataframe thead th {\n",
       "        text-align: right;\n",
       "    }\n",
       "</style>\n",
       "<table border=\"1\" class=\"dataframe\">\n",
       "  <thead>\n",
       "    <tr style=\"text-align: right;\">\n",
       "      <th></th>\n",
       "      <th>FPA_ID</th>\n",
       "      <th>FIRE_YEAR</th>\n",
       "      <th>DISCOVERY_DATE</th>\n",
       "      <th>DISCOVERY_DOY</th>\n",
       "      <th>STAT_CAUSE_CODE</th>\n",
       "      <th>STAT_CAUSE_DESCR</th>\n",
       "      <th>CONT_DATE</th>\n",
       "      <th>CONT_DOY</th>\n",
       "      <th>FIRE_SIZE</th>\n",
       "      <th>FIRE_SIZE_CLASS</th>\n",
       "      <th>LATITUDE</th>\n",
       "      <th>LONGITUDE</th>\n",
       "      <th>OWNER_CODE</th>\n",
       "      <th>OWNER_DESCR</th>\n",
       "      <th>STATE</th>\n",
       "      <th>COUNTY</th>\n",
       "      <th>FIPS_CODE</th>\n",
       "      <th>FIPS_NAME</th>\n",
       "    </tr>\n",
       "  </thead>\n",
       "  <tbody>\n",
       "    <tr>\n",
       "      <td>0</td>\n",
       "      <td>FS-1418826</td>\n",
       "      <td>2005</td>\n",
       "      <td>2453403.5</td>\n",
       "      <td>33</td>\n",
       "      <td>9.0</td>\n",
       "      <td>Miscellaneous</td>\n",
       "      <td>2453403.5</td>\n",
       "      <td>33</td>\n",
       "      <td>0.10</td>\n",
       "      <td>A</td>\n",
       "      <td>40.036944</td>\n",
       "      <td>-121.005833</td>\n",
       "      <td>5.0</td>\n",
       "      <td>USFS</td>\n",
       "      <td>CA</td>\n",
       "      <td>63</td>\n",
       "      <td>063</td>\n",
       "      <td>Plumas</td>\n",
       "    </tr>\n",
       "    <tr>\n",
       "      <td>1</td>\n",
       "      <td>FS-1418827</td>\n",
       "      <td>2004</td>\n",
       "      <td>2453137.5</td>\n",
       "      <td>133</td>\n",
       "      <td>1.0</td>\n",
       "      <td>Lightning</td>\n",
       "      <td>2453137.5</td>\n",
       "      <td>133</td>\n",
       "      <td>0.25</td>\n",
       "      <td>A</td>\n",
       "      <td>38.933056</td>\n",
       "      <td>-120.404444</td>\n",
       "      <td>5.0</td>\n",
       "      <td>USFS</td>\n",
       "      <td>CA</td>\n",
       "      <td>61</td>\n",
       "      <td>061</td>\n",
       "      <td>Placer</td>\n",
       "    </tr>\n",
       "    <tr>\n",
       "      <td>2</td>\n",
       "      <td>FS-1418835</td>\n",
       "      <td>2004</td>\n",
       "      <td>2453156.5</td>\n",
       "      <td>152</td>\n",
       "      <td>5.0</td>\n",
       "      <td>Debris Burning</td>\n",
       "      <td>2453156.5</td>\n",
       "      <td>152</td>\n",
       "      <td>0.10</td>\n",
       "      <td>A</td>\n",
       "      <td>38.984167</td>\n",
       "      <td>-120.735556</td>\n",
       "      <td>13.0</td>\n",
       "      <td>STATE OR PRIVATE</td>\n",
       "      <td>CA</td>\n",
       "      <td>17</td>\n",
       "      <td>017</td>\n",
       "      <td>El Dorado</td>\n",
       "    </tr>\n",
       "    <tr>\n",
       "      <td>3</td>\n",
       "      <td>FS-1418845</td>\n",
       "      <td>2004</td>\n",
       "      <td>2453184.5</td>\n",
       "      <td>180</td>\n",
       "      <td>1.0</td>\n",
       "      <td>Lightning</td>\n",
       "      <td>2453189.5</td>\n",
       "      <td>185</td>\n",
       "      <td>0.10</td>\n",
       "      <td>A</td>\n",
       "      <td>38.559167</td>\n",
       "      <td>-119.913333</td>\n",
       "      <td>5.0</td>\n",
       "      <td>USFS</td>\n",
       "      <td>CA</td>\n",
       "      <td>3</td>\n",
       "      <td>003</td>\n",
       "      <td>Alpine</td>\n",
       "    </tr>\n",
       "    <tr>\n",
       "      <td>4</td>\n",
       "      <td>FS-1418847</td>\n",
       "      <td>2004</td>\n",
       "      <td>2453184.5</td>\n",
       "      <td>180</td>\n",
       "      <td>1.0</td>\n",
       "      <td>Lightning</td>\n",
       "      <td>2453189.5</td>\n",
       "      <td>185</td>\n",
       "      <td>0.10</td>\n",
       "      <td>A</td>\n",
       "      <td>38.559167</td>\n",
       "      <td>-119.933056</td>\n",
       "      <td>5.0</td>\n",
       "      <td>USFS</td>\n",
       "      <td>CA</td>\n",
       "      <td>3</td>\n",
       "      <td>003</td>\n",
       "      <td>Alpine</td>\n",
       "    </tr>\n",
       "  </tbody>\n",
       "</table>\n",
       "</div>"
      ],
      "text/plain": [
       "       FPA_ID  FIRE_YEAR  DISCOVERY_DATE  DISCOVERY_DOY  STAT_CAUSE_CODE  \\\n",
       "0  FS-1418826       2005       2453403.5             33              9.0   \n",
       "1  FS-1418827       2004       2453137.5            133              1.0   \n",
       "2  FS-1418835       2004       2453156.5            152              5.0   \n",
       "3  FS-1418845       2004       2453184.5            180              1.0   \n",
       "4  FS-1418847       2004       2453184.5            180              1.0   \n",
       "\n",
       "  STAT_CAUSE_DESCR  CONT_DATE  CONT_DOY  FIRE_SIZE FIRE_SIZE_CLASS   LATITUDE  \\\n",
       "0    Miscellaneous  2453403.5        33       0.10               A  40.036944   \n",
       "1        Lightning  2453137.5       133       0.25               A  38.933056   \n",
       "2   Debris Burning  2453156.5       152       0.10               A  38.984167   \n",
       "3        Lightning  2453189.5       185       0.10               A  38.559167   \n",
       "4        Lightning  2453189.5       185       0.10               A  38.559167   \n",
       "\n",
       "    LONGITUDE  OWNER_CODE       OWNER_DESCR STATE COUNTY FIPS_CODE  FIPS_NAME  \n",
       "0 -121.005833         5.0              USFS    CA     63       063     Plumas  \n",
       "1 -120.404444         5.0              USFS    CA     61       061     Placer  \n",
       "2 -120.735556        13.0  STATE OR PRIVATE    CA     17       017  El Dorado  \n",
       "3 -119.913333         5.0              USFS    CA      3       003     Alpine  \n",
       "4 -119.933056         5.0              USFS    CA      3       003     Alpine  "
      ]
     },
     "execution_count": 6,
     "metadata": {},
     "output_type": "execute_result"
    }
   ],
   "source": [
    "columns_df_abbrev = columns_df[['FPA_ID', \n",
    "       'FIRE_YEAR', 'DISCOVERY_DATE', 'DISCOVERY_DOY',\n",
    "       'STAT_CAUSE_CODE', 'STAT_CAUSE_DESCR', 'CONT_DATE',\n",
    "       'CONT_DOY', 'FIRE_SIZE', 'FIRE_SIZE_CLASS', 'LATITUDE',\n",
    "       'LONGITUDE', 'OWNER_CODE', 'OWNER_DESCR', 'STATE', 'COUNTY',\n",
    "       'FIPS_CODE', 'FIPS_NAME',]].copy()\n",
    "columns_df_abbrev"
   ]
  },
  {
   "cell_type": "markdown",
   "metadata": {},
   "source": [
    "## Columns to use in West Coast dataframe"
   ]
  },
  {
   "cell_type": "code",
   "execution_count": 7,
   "metadata": {
    "ExecuteTime": {
     "end_time": "2019-10-24T22:35:42.050149Z",
     "start_time": "2019-10-24T22:35:41.965385Z"
    }
   },
   "outputs": [
    {
     "data": {
      "text/html": [
       "<div>\n",
       "<style scoped>\n",
       "    .dataframe tbody tr th:only-of-type {\n",
       "        vertical-align: middle;\n",
       "    }\n",
       "\n",
       "    .dataframe tbody tr th {\n",
       "        vertical-align: top;\n",
       "    }\n",
       "\n",
       "    .dataframe thead th {\n",
       "        text-align: right;\n",
       "    }\n",
       "</style>\n",
       "<table border=\"1\" class=\"dataframe\">\n",
       "  <thead>\n",
       "    <tr style=\"text-align: right;\">\n",
       "      <th></th>\n",
       "      <th>FPA_ID</th>\n",
       "      <th>FIRE_YEAR</th>\n",
       "      <th>DISCOVERY_DOY</th>\n",
       "      <th>STAT_CAUSE_CODE</th>\n",
       "      <th>STAT_CAUSE_DESCR</th>\n",
       "      <th>CONT_DOY</th>\n",
       "      <th>FIRE_SIZE</th>\n",
       "      <th>FIRE_SIZE_CLASS</th>\n",
       "      <th>LATITUDE</th>\n",
       "      <th>LONGITUDE</th>\n",
       "      <th>STATE</th>\n",
       "    </tr>\n",
       "  </thead>\n",
       "  <tbody>\n",
       "  </tbody>\n",
       "</table>\n",
       "</div>"
      ],
      "text/plain": [
       "Empty DataFrame\n",
       "Columns: [FPA_ID, FIRE_YEAR, DISCOVERY_DOY, STAT_CAUSE_CODE, STAT_CAUSE_DESCR, CONT_DOY, FIRE_SIZE, FIRE_SIZE_CLASS, LATITUDE, LONGITUDE, STATE]\n",
       "Index: []"
      ]
     },
     "execution_count": 7,
     "metadata": {},
     "output_type": "execute_result"
    }
   ],
   "source": [
    "columns_df_abbrev_west = columns_df[['FPA_ID', \n",
    "       'FIRE_YEAR', 'DISCOVERY_DOY',\n",
    "       'STAT_CAUSE_CODE', 'STAT_CAUSE_DESCR',\n",
    "       'CONT_DOY', 'FIRE_SIZE', 'FIRE_SIZE_CLASS', 'LATITUDE',\n",
    "       'LONGITUDE', 'STATE']].copy()\n",
    "columns_df_abbrev_west.head(0)"
   ]
  },
  {
   "cell_type": "markdown",
   "metadata": {},
   "source": [
    "# How many unique \"FIRE_NAME\" entries are there?"
   ]
  },
  {
   "cell_type": "code",
   "execution_count": null,
   "metadata": {
    "ExecuteTime": {
     "end_time": "2019-10-23T23:11:16.789560Z",
     "start_time": "2019-10-23T23:10:45.824262Z"
    }
   },
   "outputs": [],
   "source": [
    "query = '''\n",
    "SELECT count(distinct FIRE_NAME)\n",
    "FROM Fires;\n",
    "'''\n",
    "cursor.execute(query)\n",
    "fire_names = cursor.fetchall()\n",
    "fire_names"
   ]
  },
  {
   "cell_type": "markdown",
   "metadata": {},
   "source": [
    "Answer: almost half a million. Not especially helpful."
   ]
  },
  {
   "cell_type": "code",
   "execution_count": null,
   "metadata": {},
   "outputs": [],
   "source": []
  },
  {
   "cell_type": "code",
   "execution_count": null,
   "metadata": {},
   "outputs": [],
   "source": []
  },
  {
   "cell_type": "markdown",
   "metadata": {},
   "source": [
    "# Create DataFrame for data from West Coast states: AK, WA, OR, CA"
   ]
  },
  {
   "cell_type": "markdown",
   "metadata": {},
   "source": [
    "## How many states are there?"
   ]
  },
  {
   "cell_type": "code",
   "execution_count": null,
   "metadata": {
    "ExecuteTime": {
     "end_time": "2019-10-23T23:23:50.695385Z",
     "start_time": "2019-10-23T23:23:19.662080Z"
    }
   },
   "outputs": [],
   "source": [
    "query = '''\n",
    "SELECT count(distinct STATE)\n",
    "FROM Fires;\n",
    "'''\n",
    "cursor.execute(query)\n",
    "states = cursor.fetchall()\n",
    "states"
   ]
  },
  {
   "cell_type": "markdown",
   "metadata": {},
   "source": [
    "Answer: 52 states (includes Puerto Rico and DC). Nothing strange here."
   ]
  },
  {
   "cell_type": "markdown",
   "metadata": {
    "heading_collapsed": true
   },
   "source": [
    "## How many fires happened in West Coast states?"
   ]
  },
  {
   "cell_type": "code",
   "execution_count": null,
   "metadata": {
    "ExecuteTime": {
     "end_time": "2019-10-23T23:28:55.925412Z",
     "start_time": "2019-10-23T23:26:51.276520Z"
    },
    "hidden": true
   },
   "outputs": [],
   "source": [
    "query = '''\n",
    "SELECT STATE, count(distinct FPA_ID)\n",
    "FROM Fires\n",
    "WHERE (STATE='AK' OR STATE='WA' OR STATE='OR' OR STATE='CA') \n",
    "GROUP BY STATE;\n",
    "'''\n",
    "cursor.execute(query)\n",
    "west_coast_fires = cursor.fetchall()\n",
    "west_coast_fires"
   ]
  },
  {
   "cell_type": "markdown",
   "metadata": {
    "hidden": true
   },
   "source": [
    "### Are all FPA IDs unique?"
   ]
  },
  {
   "cell_type": "code",
   "execution_count": null,
   "metadata": {
    "ExecuteTime": {
     "end_time": "2019-10-23T23:43:53.532659Z",
     "start_time": "2019-10-23T23:43:20.104103Z"
    },
    "hidden": true
   },
   "outputs": [],
   "source": [
    "query = '''\n",
    "SELECT count(FPA_ID), count(distinct FPA_ID)\n",
    "FROM Fires\n",
    "WHERE (STATE='AK' OR STATE='WA' OR STATE='OR' OR STATE='CA');\n",
    "'''\n",
    "cursor.execute(query)\n",
    "fpa_count_distinct = cursor.fetchall()\n",
    "fpa_count_distinct"
   ]
  },
  {
   "cell_type": "markdown",
   "metadata": {
    "hidden": true
   },
   "source": [
    "Very nearly all (except 1) FPA IDs are unique for West Coast states."
   ]
  },
  {
   "cell_type": "markdown",
   "metadata": {
    "heading_collapsed": true
   },
   "source": [
    "## Bar plot of COUNT(Fires) in West Coast States"
   ]
  },
  {
   "cell_type": "code",
   "execution_count": null,
   "metadata": {
    "ExecuteTime": {
     "end_time": "2019-10-23T23:47:24.773243Z",
     "start_time": "2019-10-23T23:47:24.723203Z"
    },
    "hidden": true
   },
   "outputs": [],
   "source": [
    "west_coast_fires_df = pd.DataFrame(west_coast_fires, columns=['State','Number of Fires'])"
   ]
  },
  {
   "cell_type": "code",
   "execution_count": null,
   "metadata": {
    "ExecuteTime": {
     "end_time": "2019-10-24T00:16:10.146432Z",
     "start_time": "2019-10-24T00:16:09.520869Z"
    },
    "hidden": true
   },
   "outputs": [],
   "source": [
    "west_coast_fires_df.plot(kind='bar', \n",
    "                        x='State')"
   ]
  },
  {
   "cell_type": "markdown",
   "metadata": {},
   "source": [
    "## Filter for relevant states (with relevant columns) AND CREATE DATAFRAME"
   ]
  },
  {
   "cell_type": "code",
   "execution_count": null,
   "metadata": {
    "ExecuteTime": {
     "end_time": "2019-10-23T23:51:33.563498Z",
     "start_time": "2019-10-23T23:51:33.546951Z"
    }
   },
   "outputs": [],
   "source": [
    "columns_df_abbrev_west = columns_df[['FPA_ID', \n",
    "       'FIRE_YEAR', 'DISCOVERY_DOY',\n",
    "       'STAT_CAUSE_CODE', 'STAT_CAUSE_DESCR',\n",
    "       'CONT_DOY', 'FIRE_SIZE', 'FIRE_SIZE_CLASS', 'LATITUDE',\n",
    "       'LONGITUDE', 'STATE']].copy()\n",
    "columns_df_abbrev_west.head(0)"
   ]
  },
  {
   "cell_type": "code",
   "execution_count": 8,
   "metadata": {
    "ExecuteTime": {
     "end_time": "2019-10-24T22:36:47.929756Z",
     "start_time": "2019-10-24T22:36:20.485728Z"
    }
   },
   "outputs": [],
   "source": [
    "query = '''\n",
    "SELECT FPA_ID, \n",
    "       FIRE_YEAR, DISCOVERY_DOY,\n",
    "       STAT_CAUSE_CODE, STAT_CAUSE_DESCR,\n",
    "       CONT_DOY, FIRE_SIZE, FIRE_SIZE_CLASS, LATITUDE,\n",
    "       LONGITUDE, STATE\n",
    "FROM Fires\n",
    "WHERE (STATE='AK' OR STATE='WA' OR STATE='OR' OR STATE='CA');\n",
    "'''\n",
    "cursor.execute(query)\n",
    "west = cursor.fetchall()\n",
    "west_df = pd.DataFrame(west, columns=['fire_id','year','discovery_doy',\n",
    "                                      'cause_code','cause_descr','contained_doy',\n",
    "                                      'fire_size','fire_size_class',\n",
    "                                      'lat','long','state'])"
   ]
  },
  {
   "cell_type": "code",
   "execution_count": 9,
   "metadata": {
    "ExecuteTime": {
     "end_time": "2019-10-24T22:36:55.093414Z",
     "start_time": "2019-10-24T22:36:55.057894Z"
    }
   },
   "outputs": [
    {
     "data": {
      "text/html": [
       "<div>\n",
       "<style scoped>\n",
       "    .dataframe tbody tr th:only-of-type {\n",
       "        vertical-align: middle;\n",
       "    }\n",
       "\n",
       "    .dataframe tbody tr th {\n",
       "        vertical-align: top;\n",
       "    }\n",
       "\n",
       "    .dataframe thead th {\n",
       "        text-align: right;\n",
       "    }\n",
       "</style>\n",
       "<table border=\"1\" class=\"dataframe\">\n",
       "  <thead>\n",
       "    <tr style=\"text-align: right;\">\n",
       "      <th></th>\n",
       "      <th>fire_id</th>\n",
       "      <th>year</th>\n",
       "      <th>discovery_doy</th>\n",
       "      <th>cause_code</th>\n",
       "      <th>cause_descr</th>\n",
       "      <th>contained_doy</th>\n",
       "      <th>fire_size</th>\n",
       "      <th>fire_size_class</th>\n",
       "      <th>lat</th>\n",
       "      <th>long</th>\n",
       "      <th>state</th>\n",
       "    </tr>\n",
       "  </thead>\n",
       "  <tbody>\n",
       "    <tr>\n",
       "      <td>0</td>\n",
       "      <td>FS-1418826</td>\n",
       "      <td>2005</td>\n",
       "      <td>33</td>\n",
       "      <td>9.0</td>\n",
       "      <td>Miscellaneous</td>\n",
       "      <td>33.0</td>\n",
       "      <td>0.10</td>\n",
       "      <td>A</td>\n",
       "      <td>40.036944</td>\n",
       "      <td>-121.005833</td>\n",
       "      <td>CA</td>\n",
       "    </tr>\n",
       "    <tr>\n",
       "      <td>1</td>\n",
       "      <td>FS-1418827</td>\n",
       "      <td>2004</td>\n",
       "      <td>133</td>\n",
       "      <td>1.0</td>\n",
       "      <td>Lightning</td>\n",
       "      <td>133.0</td>\n",
       "      <td>0.25</td>\n",
       "      <td>A</td>\n",
       "      <td>38.933056</td>\n",
       "      <td>-120.404444</td>\n",
       "      <td>CA</td>\n",
       "    </tr>\n",
       "    <tr>\n",
       "      <td>2</td>\n",
       "      <td>FS-1418835</td>\n",
       "      <td>2004</td>\n",
       "      <td>152</td>\n",
       "      <td>5.0</td>\n",
       "      <td>Debris Burning</td>\n",
       "      <td>152.0</td>\n",
       "      <td>0.10</td>\n",
       "      <td>A</td>\n",
       "      <td>38.984167</td>\n",
       "      <td>-120.735556</td>\n",
       "      <td>CA</td>\n",
       "    </tr>\n",
       "    <tr>\n",
       "      <td>3</td>\n",
       "      <td>FS-1418845</td>\n",
       "      <td>2004</td>\n",
       "      <td>180</td>\n",
       "      <td>1.0</td>\n",
       "      <td>Lightning</td>\n",
       "      <td>185.0</td>\n",
       "      <td>0.10</td>\n",
       "      <td>A</td>\n",
       "      <td>38.559167</td>\n",
       "      <td>-119.913333</td>\n",
       "      <td>CA</td>\n",
       "    </tr>\n",
       "    <tr>\n",
       "      <td>4</td>\n",
       "      <td>FS-1418847</td>\n",
       "      <td>2004</td>\n",
       "      <td>180</td>\n",
       "      <td>1.0</td>\n",
       "      <td>Lightning</td>\n",
       "      <td>185.0</td>\n",
       "      <td>0.10</td>\n",
       "      <td>A</td>\n",
       "      <td>38.559167</td>\n",
       "      <td>-119.933056</td>\n",
       "      <td>CA</td>\n",
       "    </tr>\n",
       "  </tbody>\n",
       "</table>\n",
       "</div>"
      ],
      "text/plain": [
       "      fire_id  year  discovery_doy  cause_code     cause_descr  contained_doy  \\\n",
       "0  FS-1418826  2005             33         9.0   Miscellaneous           33.0   \n",
       "1  FS-1418827  2004            133         1.0       Lightning          133.0   \n",
       "2  FS-1418835  2004            152         5.0  Debris Burning          152.0   \n",
       "3  FS-1418845  2004            180         1.0       Lightning          185.0   \n",
       "4  FS-1418847  2004            180         1.0       Lightning          185.0   \n",
       "\n",
       "   fire_size fire_size_class        lat        long state  \n",
       "0       0.10               A  40.036944 -121.005833    CA  \n",
       "1       0.25               A  38.933056 -120.404444    CA  \n",
       "2       0.10               A  38.984167 -120.735556    CA  \n",
       "3       0.10               A  38.559167 -119.913333    CA  \n",
       "4       0.10               A  38.559167 -119.933056    CA  "
      ]
     },
     "execution_count": 9,
     "metadata": {},
     "output_type": "execute_result"
    }
   ],
   "source": [
    "west_df.head()"
   ]
  },
  {
   "cell_type": "code",
   "execution_count": null,
   "metadata": {
    "ExecuteTime": {
     "end_time": "2019-10-23T23:59:18.857031Z",
     "start_time": "2019-10-23T23:59:18.736525Z"
    }
   },
   "outputs": [],
   "source": [
    "west_df.info()"
   ]
  },
  {
   "cell_type": "markdown",
   "metadata": {},
   "source": [
    "I seem to be missing some contained_doy values. (about 1/3 of discovery_doy values)"
   ]
  },
  {
   "cell_type": "code",
   "execution_count": null,
   "metadata": {
    "ExecuteTime": {
     "end_time": "2019-10-23T23:59:45.039654Z",
     "start_time": "2019-10-23T23:59:44.125827Z"
    }
   },
   "outputs": [],
   "source": [
    "west_df.describe()"
   ]
  },
  {
   "cell_type": "code",
   "execution_count": null,
   "metadata": {
    "ExecuteTime": {
     "end_time": "2019-10-24T00:02:36.522527Z",
     "start_time": "2019-10-24T00:02:36.513163Z"
    }
   },
   "outputs": [],
   "source": [
    "west_df.contained_doy"
   ]
  },
  {
   "cell_type": "markdown",
   "metadata": {},
   "source": [
    "# Make sure STAT_CAUSE_DESCR = STAT_CAUSE_CODE"
   ]
  },
  {
   "cell_type": "code",
   "execution_count": 10,
   "metadata": {
    "ExecuteTime": {
     "end_time": "2019-10-24T22:37:47.856220Z",
     "start_time": "2019-10-24T22:37:16.677633Z"
    }
   },
   "outputs": [
    {
     "data": {
      "text/html": [
       "<div>\n",
       "<style scoped>\n",
       "    .dataframe tbody tr th:only-of-type {\n",
       "        vertical-align: middle;\n",
       "    }\n",
       "\n",
       "    .dataframe tbody tr th {\n",
       "        vertical-align: top;\n",
       "    }\n",
       "\n",
       "    .dataframe thead th {\n",
       "        text-align: right;\n",
       "    }\n",
       "</style>\n",
       "<table border=\"1\" class=\"dataframe\">\n",
       "  <thead>\n",
       "    <tr style=\"text-align: right;\">\n",
       "      <th></th>\n",
       "      <th>Code</th>\n",
       "      <th>Code Count</th>\n",
       "      <th>Description</th>\n",
       "      <th>Descr Count</th>\n",
       "    </tr>\n",
       "  </thead>\n",
       "  <tbody>\n",
       "    <tr>\n",
       "      <td>0</td>\n",
       "      <td>1.0</td>\n",
       "      <td>278468</td>\n",
       "      <td>Lightning</td>\n",
       "      <td>278468</td>\n",
       "    </tr>\n",
       "    <tr>\n",
       "      <td>1</td>\n",
       "      <td>2.0</td>\n",
       "      <td>147612</td>\n",
       "      <td>Equipment Use</td>\n",
       "      <td>147612</td>\n",
       "    </tr>\n",
       "    <tr>\n",
       "      <td>2</td>\n",
       "      <td>3.0</td>\n",
       "      <td>52869</td>\n",
       "      <td>Smoking</td>\n",
       "      <td>52869</td>\n",
       "    </tr>\n",
       "    <tr>\n",
       "      <td>3</td>\n",
       "      <td>4.0</td>\n",
       "      <td>76139</td>\n",
       "      <td>Campfire</td>\n",
       "      <td>76139</td>\n",
       "    </tr>\n",
       "    <tr>\n",
       "      <td>4</td>\n",
       "      <td>5.0</td>\n",
       "      <td>429028</td>\n",
       "      <td>Debris Burning</td>\n",
       "      <td>429028</td>\n",
       "    </tr>\n",
       "    <tr>\n",
       "      <td>5</td>\n",
       "      <td>6.0</td>\n",
       "      <td>33455</td>\n",
       "      <td>Railroad</td>\n",
       "      <td>33455</td>\n",
       "    </tr>\n",
       "    <tr>\n",
       "      <td>6</td>\n",
       "      <td>7.0</td>\n",
       "      <td>281455</td>\n",
       "      <td>Arson</td>\n",
       "      <td>281455</td>\n",
       "    </tr>\n",
       "    <tr>\n",
       "      <td>7</td>\n",
       "      <td>8.0</td>\n",
       "      <td>61167</td>\n",
       "      <td>Children</td>\n",
       "      <td>61167</td>\n",
       "    </tr>\n",
       "    <tr>\n",
       "      <td>8</td>\n",
       "      <td>9.0</td>\n",
       "      <td>323805</td>\n",
       "      <td>Miscellaneous</td>\n",
       "      <td>323805</td>\n",
       "    </tr>\n",
       "    <tr>\n",
       "      <td>9</td>\n",
       "      <td>10.0</td>\n",
       "      <td>11500</td>\n",
       "      <td>Fireworks</td>\n",
       "      <td>11500</td>\n",
       "    </tr>\n",
       "    <tr>\n",
       "      <td>10</td>\n",
       "      <td>11.0</td>\n",
       "      <td>14448</td>\n",
       "      <td>Powerline</td>\n",
       "      <td>14448</td>\n",
       "    </tr>\n",
       "    <tr>\n",
       "      <td>11</td>\n",
       "      <td>12.0</td>\n",
       "      <td>3796</td>\n",
       "      <td>Structure</td>\n",
       "      <td>3796</td>\n",
       "    </tr>\n",
       "    <tr>\n",
       "      <td>12</td>\n",
       "      <td>13.0</td>\n",
       "      <td>166723</td>\n",
       "      <td>Missing/Undefined</td>\n",
       "      <td>166723</td>\n",
       "    </tr>\n",
       "  </tbody>\n",
       "</table>\n",
       "</div>"
      ],
      "text/plain": [
       "    Code  Code Count        Description  Descr Count\n",
       "0    1.0      278468          Lightning       278468\n",
       "1    2.0      147612      Equipment Use       147612\n",
       "2    3.0       52869            Smoking        52869\n",
       "3    4.0       76139           Campfire        76139\n",
       "4    5.0      429028     Debris Burning       429028\n",
       "5    6.0       33455           Railroad        33455\n",
       "6    7.0      281455              Arson       281455\n",
       "7    8.0       61167           Children        61167\n",
       "8    9.0      323805      Miscellaneous       323805\n",
       "9   10.0       11500          Fireworks        11500\n",
       "10  11.0       14448          Powerline        14448\n",
       "11  12.0        3796          Structure         3796\n",
       "12  13.0      166723  Missing/Undefined       166723"
      ]
     },
     "execution_count": 10,
     "metadata": {},
     "output_type": "execute_result"
    }
   ],
   "source": [
    "query = '''\n",
    "select STAT_CAUSE_CODE, count(STAT_CAUSE_CODE), STAT_CAUSE_DESCR, count(STAT_CAUSE_DESCR) \n",
    "from Fires \n",
    "group by STAT_CAUSE_CODE;\n",
    "'''\n",
    "cursor.execute(query)\n",
    "cause_codes = cursor.fetchall()\n",
    "cause_codes_df = pd.DataFrame(cause_codes, columns=['Code','Code Count','Description','Descr Count'])\n",
    "cause_codes_df"
   ]
  },
  {
   "cell_type": "markdown",
   "metadata": {},
   "source": [
    "The cause codes each seem to match with a single cause description (the lengths are the same), which means there are probably no entry errors here."
   ]
  },
  {
   "cell_type": "markdown",
   "metadata": {},
   "source": [
    "I want to drop the fires that were caused by Miscellaneous (323805) or Missing/Undefined (166723), because they are not helpful for prediction. Is that an ok thing to do?\n",
    "\n",
    "Possible metacategories: natural, human_industry, human_recreation\n",
    "OR natural vs human"
   ]
  },
  {
   "cell_type": "code",
   "execution_count": null,
   "metadata": {},
   "outputs": [],
   "source": []
  },
  {
   "cell_type": "code",
   "execution_count": null,
   "metadata": {},
   "outputs": [],
   "source": []
  },
  {
   "cell_type": "markdown",
   "metadata": {},
   "source": [
    "## Store Cause Code/Description values in a dict"
   ]
  },
  {
   "cell_type": "code",
   "execution_count": 11,
   "metadata": {
    "ExecuteTime": {
     "end_time": "2019-10-24T22:37:53.592112Z",
     "start_time": "2019-10-24T22:37:53.579750Z"
    }
   },
   "outputs": [],
   "source": [
    "cause_codes_dict = pd.Series(cause_codes_df.Description.values,index=cause_codes_df.Code).to_dict()"
   ]
  },
  {
   "cell_type": "code",
   "execution_count": 12,
   "metadata": {
    "ExecuteTime": {
     "end_time": "2019-10-24T22:37:58.766295Z",
     "start_time": "2019-10-24T22:37:58.753946Z"
    }
   },
   "outputs": [
    {
     "data": {
      "text/plain": [
       "{1.0: 'Lightning',\n",
       " 2.0: 'Equipment Use',\n",
       " 3.0: 'Smoking',\n",
       " 4.0: 'Campfire',\n",
       " 5.0: 'Debris Burning',\n",
       " 6.0: 'Railroad',\n",
       " 7.0: 'Arson',\n",
       " 8.0: 'Children',\n",
       " 9.0: 'Miscellaneous',\n",
       " 10.0: 'Fireworks',\n",
       " 11.0: 'Powerline',\n",
       " 12.0: 'Structure',\n",
       " 13.0: 'Missing/Undefined'}"
      ]
     },
     "execution_count": 12,
     "metadata": {},
     "output_type": "execute_result"
    }
   ],
   "source": [
    "cause_codes_dict"
   ]
  },
  {
   "cell_type": "code",
   "execution_count": null,
   "metadata": {},
   "outputs": [],
   "source": []
  },
  {
   "cell_type": "markdown",
   "metadata": {
    "heading_collapsed": true
   },
   "source": [
    "# FIRE DURATION (Days)"
   ]
  },
  {
   "cell_type": "markdown",
   "metadata": {
    "hidden": true
   },
   "source": [
    "I expect Fire Size to be highly correlated with Fire Duration i.e. CONT_DATE - DISCOVERY_DATE. Is this the case?"
   ]
  },
  {
   "cell_type": "code",
   "execution_count": null,
   "metadata": {
    "ExecuteTime": {
     "end_time": "2019-10-24T00:19:02.159841Z",
     "start_time": "2019-10-24T00:19:02.156543Z"
    },
    "hidden": true
   },
   "outputs": [],
   "source": [
    "# figure this out later (or never)\n",
    "\n",
    "# with FIRE_DURATION as (\n",
    "\n",
    "\n",
    "# )"
   ]
  },
  {
   "cell_type": "markdown",
   "metadata": {
    "heading_collapsed": true
   },
   "source": [
    "# What is the most common cause?"
   ]
  },
  {
   "cell_type": "code",
   "execution_count": null,
   "metadata": {
    "ExecuteTime": {
     "end_time": "2019-10-22T21:34:28.119284Z",
     "start_time": "2019-10-22T21:33:00.424786Z"
    },
    "hidden": true
   },
   "outputs": [],
   "source": [
    "query = '''\n",
    "SELECT STAT_CAUSE_DESCR, COUNT(STAT_CAUSE_DESCR) \n",
    "FROM Fires \n",
    "GROUP BY STAT_CAUSE_DESCR \n",
    "ORDER BY COUNT(STAT_CAUSE_DESCR) DESC;\n",
    "'''\n",
    "cursor.execute(query)\n",
    "causes = cursor.fetchall() # yields list of tuples in \"causes\" variable"
   ]
  },
  {
   "cell_type": "code",
   "execution_count": null,
   "metadata": {
    "ExecuteTime": {
     "end_time": "2019-10-22T21:35:33.546134Z",
     "start_time": "2019-10-22T21:35:32.621009Z"
    },
    "hidden": true
   },
   "outputs": [],
   "source": [
    "causes_df = pd.DataFrame(causes, columns=['Cause','Frequency'])"
   ]
  },
  {
   "cell_type": "code",
   "execution_count": null,
   "metadata": {
    "ExecuteTime": {
     "end_time": "2019-10-22T21:35:48.014016Z",
     "start_time": "2019-10-22T21:35:43.904396Z"
    },
    "hidden": true
   },
   "outputs": [],
   "source": [
    "causes_df.plot(kind='bar', x='Cause')"
   ]
  },
  {
   "cell_type": "markdown",
   "metadata": {
    "hidden": true
   },
   "source": [
    "Most common cause across all years and locations: Debris Burning"
   ]
  },
  {
   "cell_type": "markdown",
   "metadata": {
    "hidden": true
   },
   "source": [
    "## What happens if I remove Miscellaneous and Missing/Undefined?"
   ]
  },
  {
   "cell_type": "code",
   "execution_count": null,
   "metadata": {
    "ExecuteTime": {
     "end_time": "2019-10-23T02:52:49.015645Z",
     "start_time": "2019-10-23T02:52:19.880115Z"
    },
    "hidden": true
   },
   "outputs": [],
   "source": [
    "query = '''\n",
    "SELECT STAT_CAUSE_DESCR, COUNT(STAT_CAUSE_DESCR) \n",
    "FROM Fires \n",
    "WHERE NOT (STAT_CAUSE_DESCR='Miscellaneous' OR STAT_CAUSE_DESCR='Missing/Undefined')\n",
    "GROUP BY STAT_CAUSE_DESCR \n",
    "ORDER BY COUNT(STAT_CAUSE_DESCR) DESC;\n",
    "'''\n",
    "cursor.execute(query)\n",
    "causes_pred = cursor.fetchall() \n",
    "causes_pred_df = pd.DataFrame(causes_pred, columns=['Cause','Frequency'])"
   ]
  },
  {
   "cell_type": "code",
   "execution_count": null,
   "metadata": {
    "ExecuteTime": {
     "end_time": "2019-10-23T02:52:59.733409Z",
     "start_time": "2019-10-23T02:52:59.177214Z"
    },
    "hidden": true
   },
   "outputs": [],
   "source": [
    "causes_pred_df.plot(kind='bar', x='Cause')"
   ]
  },
  {
   "cell_type": "markdown",
   "metadata": {
    "heading_collapsed": true
   },
   "source": [
    "# How many fires in each year? (all locations)"
   ]
  },
  {
   "cell_type": "code",
   "execution_count": null,
   "metadata": {
    "ExecuteTime": {
     "end_time": "2019-10-22T21:44:03.723195Z",
     "start_time": "2019-10-22T21:43:30.070019Z"
    },
    "hidden": true
   },
   "outputs": [],
   "source": [
    "query = '''\n",
    "SELECT FIRE_YEAR, COUNT(FOD_ID) \n",
    "FROM Fires \n",
    "GROUP BY FIRE_YEAR;\n",
    "'''\n",
    "cursor.execute(query)\n",
    "fires_per_year = cursor.fetchall()\n",
    "fires_per_year_df = pd.DataFrame(fires_per_year, columns=['Year','Number of Fires'])"
   ]
  },
  {
   "cell_type": "code",
   "execution_count": null,
   "metadata": {
    "ExecuteTime": {
     "end_time": "2019-10-22T22:46:38.471847Z",
     "start_time": "2019-10-22T22:46:37.988024Z"
    },
    "hidden": true
   },
   "outputs": [],
   "source": [
    "fires_per_year_df.plot(kind='bar', x='Year')"
   ]
  },
  {
   "cell_type": "markdown",
   "metadata": {
    "hidden": true
   },
   "source": [
    "For some reason there were a lot of fires in 2007. It seems to be vaguely periodic, with peaks every 5-6 years."
   ]
  },
  {
   "cell_type": "markdown",
   "metadata": {
    "heading_collapsed": true
   },
   "source": [
    "# How many fires in each state? (all years)"
   ]
  },
  {
   "cell_type": "code",
   "execution_count": null,
   "metadata": {
    "ExecuteTime": {
     "end_time": "2019-10-22T21:50:42.318923Z",
     "start_time": "2019-10-22T21:49:07.118968Z"
    },
    "hidden": true
   },
   "outputs": [],
   "source": [
    "# cell takes ~50s to run\n",
    "query = '''\n",
    "SELECT STATE, COUNT(FOD_ID) \n",
    "FROM Fires \n",
    "GROUP BY STATE\n",
    "ORDER BY COUNT(FOD_ID) DESC;\n",
    "'''\n",
    "cursor.execute(query)\n",
    "fires_per_state = cursor.fetchall()\n",
    "fires_per_state_df = pd.DataFrame(fires_per_state, columns=['State','Number of Fires'])"
   ]
  },
  {
   "cell_type": "code",
   "execution_count": null,
   "metadata": {
    "ExecuteTime": {
     "end_time": "2019-10-22T21:53:25.694243Z",
     "start_time": "2019-10-22T21:53:23.714241Z"
    },
    "hidden": true
   },
   "outputs": [],
   "source": [
    "fires_per_state_df.plot(kind='bar', \n",
    "                        x='State',\n",
    "                       figsize=(12,4))\n"
   ]
  },
  {
   "cell_type": "markdown",
   "metadata": {
    "hidden": true
   },
   "source": [
    "How does this relate to area/pop density of each state? (GA is not bigger than TX)"
   ]
  },
  {
   "cell_type": "markdown",
   "metadata": {},
   "source": [
    "# Do fireworks cause more fires near the 4th of July? (DOY=185 or 186)"
   ]
  },
  {
   "cell_type": "code",
   "execution_count": 13,
   "metadata": {
    "ExecuteTime": {
     "end_time": "2019-10-24T22:38:44.213366Z",
     "start_time": "2019-10-24T22:38:17.888789Z"
    }
   },
   "outputs": [],
   "source": [
    "# STAT_CAUSE_CODE = 10.0 'Fireworks'\n",
    "query = '''\n",
    "SELECT DISCOVERY_DOY, count(DISCOVERY_DOY)\n",
    "FROM Fires\n",
    "where STAT_CAUSE_CODE=10\n",
    "GROUP BY DISCOVERY_DOY;\n",
    "'''\n",
    "cursor.execute(query)\n",
    "fireworks = cursor.fetchall()\n",
    "fireworks_df = pd.DataFrame(fireworks, columns=['Discovery DOY', 'COUNT'])"
   ]
  },
  {
   "cell_type": "code",
   "execution_count": null,
   "metadata": {
    "ExecuteTime": {
     "end_time": "2019-10-24T00:21:26.513217Z",
     "start_time": "2019-10-24T00:21:26.505095Z"
    }
   },
   "outputs": [],
   "source": [
    "fireworks_df['COUNT'].sum()"
   ]
  },
  {
   "cell_type": "code",
   "execution_count": null,
   "metadata": {
    "ExecuteTime": {
     "end_time": "2019-10-24T00:21:38.227615Z",
     "start_time": "2019-10-24T00:21:31.542294Z"
    }
   },
   "outputs": [],
   "source": [
    "fireworks_df.plot(kind='bar', \n",
    "                  x='Discovery DOY',\n",
    "                  figsize=(12,4))\n"
   ]
  },
  {
   "cell_type": "markdown",
   "metadata": {},
   "source": [
    "Yields dramatic peak around July. Is this because of \"fire season\"?\n",
    "\n",
    "Look at x range from May to September."
   ]
  },
  {
   "cell_type": "code",
   "execution_count": null,
   "metadata": {
    "ExecuteTime": {
     "end_time": "2019-10-24T00:22:41.736344Z",
     "start_time": "2019-10-24T00:22:40.451363Z"
    }
   },
   "outputs": [],
   "source": [
    "fireworks_df_summer = fireworks_df.loc[160:210,]\n",
    "fireworks_df_summer.plot(kind='bar', \n",
    "                  x='Discovery DOY',\n",
    "                  figsize=(12,4),\n",
    "                 xlim=(121,273)) # view DOY from May 1st to September 30th"
   ]
  },
  {
   "cell_type": "markdown",
   "metadata": {},
   "source": [
    "# Pickle some stuff to use in a new notebook"
   ]
  },
  {
   "cell_type": "code",
   "execution_count": 14,
   "metadata": {
    "ExecuteTime": {
     "end_time": "2019-10-24T22:38:49.907220Z",
     "start_time": "2019-10-24T22:38:49.899835Z"
    }
   },
   "outputs": [],
   "source": [
    "import pickle"
   ]
  },
  {
   "cell_type": "code",
   "execution_count": null,
   "metadata": {
    "ExecuteTime": {
     "end_time": "2019-10-24T02:36:06.663152Z",
     "start_time": "2019-10-24T02:36:06.645893Z"
    }
   },
   "outputs": [],
   "source": [
    "# stuff_to_pickle = [columns_df_abbrev_west, west_df, cause_codes_dict, fireworks_df]"
   ]
  },
  {
   "cell_type": "code",
   "execution_count": 15,
   "metadata": {
    "ExecuteTime": {
     "end_time": "2019-10-24T22:38:55.008479Z",
     "start_time": "2019-10-24T22:38:54.936345Z"
    }
   },
   "outputs": [],
   "source": [
    "with open('columns_df_abbrev_west.pickle','wb') as to_write:\n",
    "    pickle.dump(columns_df_abbrev_west, to_write)"
   ]
  },
  {
   "cell_type": "code",
   "execution_count": 16,
   "metadata": {
    "ExecuteTime": {
     "end_time": "2019-10-24T22:40:05.265898Z",
     "start_time": "2019-10-24T22:40:03.896280Z"
    }
   },
   "outputs": [],
   "source": [
    "with open('west_df.pickle','wb') as to_write:\n",
    "    pickle.dump(west_df, to_write)"
   ]
  },
  {
   "cell_type": "code",
   "execution_count": 17,
   "metadata": {
    "ExecuteTime": {
     "end_time": "2019-10-24T22:42:37.746913Z",
     "start_time": "2019-10-24T22:42:37.661232Z"
    }
   },
   "outputs": [],
   "source": [
    "with open('cause_codes_dict.pickle','wb') as to_write:\n",
    "    pickle.dump(cause_codes_dict, to_write)"
   ]
  },
  {
   "cell_type": "code",
   "execution_count": 18,
   "metadata": {
    "ExecuteTime": {
     "end_time": "2019-10-24T22:43:10.151929Z",
     "start_time": "2019-10-24T22:43:10.146740Z"
    }
   },
   "outputs": [],
   "source": [
    "with open('fireworks_df.pickle','wb') as to_write:\n",
    "    pickle.dump(fireworks_df, to_write)"
   ]
  },
  {
   "cell_type": "code",
   "execution_count": null,
   "metadata": {},
   "outputs": [],
   "source": [
    "# with open('my_dataframe.pickle', 'wb') as to_write:\n",
    "#     pickle.dump(df, to_write)"
   ]
  },
  {
   "cell_type": "code",
   "execution_count": null,
   "metadata": {},
   "outputs": [],
   "source": []
  },
  {
   "cell_type": "markdown",
   "metadata": {
    "heading_collapsed": true
   },
   "source": [
    "# Appendix"
   ]
  },
  {
   "cell_type": "markdown",
   "metadata": {
    "hidden": true
   },
   "source": [
    "Useful code for later"
   ]
  },
  {
   "cell_type": "code",
   "execution_count": null,
   "metadata": {
    "hidden": true
   },
   "outputs": [],
   "source": [
    "sns.scatterplot('column1', 'column2', data=df, hue='label',\n",
    "           palette=pal, alpha=.2, edgecolor=None)\n",
    "plt.gcf().set_size_inches(10,6);"
   ]
  }
 ],
 "metadata": {
  "kernelspec": {
   "display_name": "Python 3",
   "language": "python",
   "name": "python3"
  },
  "language_info": {
   "codemirror_mode": {
    "name": "ipython",
    "version": 3
   },
   "file_extension": ".py",
   "mimetype": "text/x-python",
   "name": "python",
   "nbconvert_exporter": "python",
   "pygments_lexer": "ipython3",
   "version": "3.7.3"
  },
  "toc": {
   "base_numbering": 1,
   "nav_menu": {},
   "number_sections": true,
   "sideBar": true,
   "skip_h1_title": false,
   "title_cell": "Table of Contents",
   "title_sidebar": "Contents",
   "toc_cell": false,
   "toc_position": {},
   "toc_section_display": true,
   "toc_window_display": false
  },
  "varInspector": {
   "cols": {
    "lenName": 16,
    "lenType": 16,
    "lenVar": 40
   },
   "kernels_config": {
    "python": {
     "delete_cmd_postfix": "",
     "delete_cmd_prefix": "del ",
     "library": "var_list.py",
     "varRefreshCmd": "print(var_dic_list())"
    },
    "r": {
     "delete_cmd_postfix": ") ",
     "delete_cmd_prefix": "rm(",
     "library": "var_list.r",
     "varRefreshCmd": "cat(var_dic_list()) "
    }
   },
   "types_to_exclude": [
    "module",
    "function",
    "builtin_function_or_method",
    "instance",
    "_Feature"
   ],
   "window_display": false
  }
 },
 "nbformat": 4,
 "nbformat_minor": 2
}
